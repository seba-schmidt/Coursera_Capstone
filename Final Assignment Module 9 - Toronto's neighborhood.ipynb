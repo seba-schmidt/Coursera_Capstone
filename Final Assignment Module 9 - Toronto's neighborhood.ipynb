{
    "cells": [
        {
            "metadata": {},
            "cell_type": "code",
            "source": "# I copied and pasted the table from Wikipedia into a CSV file and imported it into IBM Cloud Pak for Data.\n# Then I chose \"insert to code\" for the CSV file, which returned the following code (until df_data_1 = pd.read_csv(body))\n\nimport types\nimport pandas as pd\nfrom botocore.client import Config\nimport ibm_boto3\n\ndef __iter__(self): return 0\n\n# Message from IBM (pasted when calling the \"insert to code\" function. I replaced my credentials with \"CLIENT_ID\")\n# @hidden_cell\n# The following code accesses a file in your IBM Cloud Object Storage. It includes your credentials.\n# You might want to remove those credentials before you share the notebook.\nclient_CLIENT_ID = ibm_boto3.client(service_name='s3',\n    ibm_api_key_id='-sr-LvN8cjMcjxJij-z8sHBcc0zK-6CY3Q2Kvo0xlfAy',\n    ibm_auth_endpoint=\"https://iam.cloud.ibm.com/oidc/token\",\n    config=Config(signature_version='oauth'),\n    endpoint_url='https://s3.eu-geo.objectstorage.service.networklayer.com')\n\nbody = client_CLIENT_ID.get_object(Bucket='datasciencefinalassignmentmodule8-donotdelete-pr-p7xhaymzrujbuv',Key='Neighborhoods.csv')['Body']\n# add missing __iter__ method, so pandas accepts body as file-like object\nif not hasattr(body, \"__iter__\"): body.__iter__ = types.MethodType( __iter__, body )\n\ndf_data_1 = pd.read_csv(body)\n\n# dropping null value columns to avoid errors \ndf_data_1.dropna(inplace = True) \n  \n# new data frame with split value columns \nnew = df_data_1[\"PostalCode;Borough;Neighbourhood\"].str.split(\";\", n = 2, expand = True) \n  \n# making separate first name column from new data frame \ndf_data_1[\"PostalCode\"]= new[0] \ndf_data_1[\"Borough\"]= new[1]\ndf_data_1[\"Neighborhood\"]= new[2]\n\n# Dropping old Name columns \ndf_data_1.drop(columns =[\"PostalCode;Borough;Neighbourhood\"], inplace = True)\n\n# Get names of indexes for which column Borough and Neighborhood are \"Not assigned\"\nindexNames = df_data_1[df_data_1['Borough'] == 'Not assigned' ].index\n\n# Delete these row indexes from dataFrame\ndf_data_1.drop(indexNames , inplace=True)\n\n# Reset the index and clean the data\ndf_data_1 = df_data_1.reset_index(drop=True)\ndf_data_1['Neighborhood'] = df_data_1['Neighborhood'].str.replace(r'\"', '')\ndf_data_1['Neighborhood'] = df_data_1['Neighborhood'].str.replace(r';', ',')\n\n# df display \ndf_data_1.head()",
            "execution_count": 57,
            "outputs": [
                {
                    "output_type": "execute_result",
                    "execution_count": 57,
                    "data": {
                        "text/plain": "  PostalCode           Borough                                 Neighborhood\n0        M3A        North York                                    Parkwoods\n1        M4A        North York                             Victoria Village\n2        M5A  Downtown Toronto                    Regent Park, Harbourfront\n3        M6A        North York             Lawrence Manor, Lawrence Heights\n4        M7A  Downtown Toronto  Queen's Park, Ontario Provincial Government",
                        "text/html": "<div>\n<style scoped>\n    .dataframe tbody tr th:only-of-type {\n        vertical-align: middle;\n    }\n\n    .dataframe tbody tr th {\n        vertical-align: top;\n    }\n\n    .dataframe thead th {\n        text-align: right;\n    }\n</style>\n<table border=\"1\" class=\"dataframe\">\n  <thead>\n    <tr style=\"text-align: right;\">\n      <th></th>\n      <th>PostalCode</th>\n      <th>Borough</th>\n      <th>Neighborhood</th>\n    </tr>\n  </thead>\n  <tbody>\n    <tr>\n      <th>0</th>\n      <td>M3A</td>\n      <td>North York</td>\n      <td>Parkwoods</td>\n    </tr>\n    <tr>\n      <th>1</th>\n      <td>M4A</td>\n      <td>North York</td>\n      <td>Victoria Village</td>\n    </tr>\n    <tr>\n      <th>2</th>\n      <td>M5A</td>\n      <td>Downtown Toronto</td>\n      <td>Regent Park, Harbourfront</td>\n    </tr>\n    <tr>\n      <th>3</th>\n      <td>M6A</td>\n      <td>North York</td>\n      <td>Lawrence Manor, Lawrence Heights</td>\n    </tr>\n    <tr>\n      <th>4</th>\n      <td>M7A</td>\n      <td>Downtown Toronto</td>\n      <td>Queen's Park, Ontario Provincial Government</td>\n    </tr>\n  </tbody>\n</table>\n</div>"
                    },
                    "metadata": {}
                }
            ]
        },
        {
            "metadata": {},
            "cell_type": "code",
            "source": "df_data_1.shape",
            "execution_count": 58,
            "outputs": [
                {
                    "output_type": "execute_result",
                    "execution_count": 58,
                    "data": {
                        "text/plain": "(103, 3)"
                    },
                    "metadata": {}
                }
            ]
        },
        {
            "metadata": {},
            "cell_type": "code",
            "source": "",
            "execution_count": null,
            "outputs": []
        },
        {
            "metadata": {},
            "cell_type": "code",
            "source": "",
            "execution_count": null,
            "outputs": []
        },
        {
            "metadata": {},
            "cell_type": "code",
            "source": "",
            "execution_count": null,
            "outputs": []
        }
    ],
    "metadata": {
        "kernelspec": {
            "name": "python3",
            "display_name": "Python 3.7",
            "language": "python"
        },
        "language_info": {
            "name": "python",
            "version": "3.7.9",
            "mimetype": "text/x-python",
            "codemirror_mode": {
                "name": "ipython",
                "version": 3
            },
            "pygments_lexer": "ipython3",
            "nbconvert_exporter": "python",
            "file_extension": ".py"
        }
    },
    "nbformat": 4,
    "nbformat_minor": 1
}
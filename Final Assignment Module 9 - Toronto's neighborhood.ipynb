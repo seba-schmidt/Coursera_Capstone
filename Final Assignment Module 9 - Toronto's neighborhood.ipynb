{
    "cells": [
        {
            "metadata": {},
            "cell_type": "markdown",
            "source": "Question 1"
        },
        {
            "metadata": {},
            "cell_type": "code",
            "source": "# I copied and pasted the table from Wikipedia into a CSV file and imported it into IBM Cloud Pak for Data.\n# Then I chose \"insert to code\" for the CSV file, which returned the following code (until df_data_1 = pd.read_csv(body))\n\nimport types\nimport pandas as pd\nfrom botocore.client import Config\nimport ibm_boto3\n\ndef __iter__(self): return 0\n\n# Message from IBM (pasted when calling the \"insert to code\" function. I replaced my credentials with \"CLIENT_ID\")\n# @hidden_cell\n# The following code accesses a file in your IBM Cloud Object Storage. It includes your credentials.\n# You might want to remove those credentials before you share the notebook.\nclient_CLIENT_ID = ibm_boto3.client(service_name='s3',\n    ibm_api_key_id='-sr-LvN8cjMcjxJij-z8sHBcc0zK-6CY3Q2Kvo0xlfAy',\n    ibm_auth_endpoint=\"https://iam.cloud.ibm.com/oidc/token\",\n    config=Config(signature_version='oauth'),\n    endpoint_url='https://s3.eu-geo.objectstorage.service.networklayer.com')\n\nbody = client_CLIENT_ID.get_object(Bucket='datasciencefinalassignmentmodule8-donotdelete-pr-p7xhaymzrujbuv',Key='Neighborhoods.csv')['Body']\n# add missing __iter__ method, so pandas accepts body as file-like object\nif not hasattr(body, \"__iter__\"): body.__iter__ = types.MethodType( __iter__, body )\n\ndf_data_1 = pd.read_csv(body)\n\n# dropping null value columns to avoid errors \ndf_data_1.dropna(inplace = True) \n  \n# new data frame with split value columns \nnew = df_data_1[\"PostalCode;Borough;Neighbourhood\"].str.split(\";\", n = 2, expand = True) \n  \n# making separate first name column from new data frame \ndf_data_1[\"PostalCode\"]= new[0] \ndf_data_1[\"Borough\"]= new[1]\ndf_data_1[\"Neighborhood\"]= new[2]\n\n# Dropping old Name columns \ndf_data_1.drop(columns =[\"PostalCode;Borough;Neighbourhood\"], inplace = True)\n\n# Get names of indexes for which column Borough and Neighborhood are \"Not assigned\"\nindexNames = df_data_1[df_data_1['Borough'] == 'Not assigned' ].index\n\n# Delete these row indexes from dataFrame\ndf_data_1.drop(indexNames , inplace=True)\n\n# Reset the index and clean the data\ndf_data_1 = df_data_1.reset_index(drop=True)\ndf_data_1['Neighborhood'] = df_data_1['Neighborhood'].str.replace(r'\"', '')\ndf_data_1['Neighborhood'] = df_data_1['Neighborhood'].str.replace(r';', ',')\n\n# df display \ndf_data_1.head()",
            "execution_count": 67,
            "outputs": [
                {
                    "output_type": "execute_result",
                    "execution_count": 67,
                    "data": {
                        "text/plain": "  PostalCode           Borough                                 Neighborhood\n0        M3A        North York                                    Parkwoods\n1        M4A        North York                             Victoria Village\n2        M5A  Downtown Toronto                    Regent Park, Harbourfront\n3        M6A        North York             Lawrence Manor, Lawrence Heights\n4        M7A  Downtown Toronto  Queen's Park, Ontario Provincial Government",
                        "text/html": "<div>\n<style scoped>\n    .dataframe tbody tr th:only-of-type {\n        vertical-align: middle;\n    }\n\n    .dataframe tbody tr th {\n        vertical-align: top;\n    }\n\n    .dataframe thead th {\n        text-align: right;\n    }\n</style>\n<table border=\"1\" class=\"dataframe\">\n  <thead>\n    <tr style=\"text-align: right;\">\n      <th></th>\n      <th>PostalCode</th>\n      <th>Borough</th>\n      <th>Neighborhood</th>\n    </tr>\n  </thead>\n  <tbody>\n    <tr>\n      <th>0</th>\n      <td>M3A</td>\n      <td>North York</td>\n      <td>Parkwoods</td>\n    </tr>\n    <tr>\n      <th>1</th>\n      <td>M4A</td>\n      <td>North York</td>\n      <td>Victoria Village</td>\n    </tr>\n    <tr>\n      <th>2</th>\n      <td>M5A</td>\n      <td>Downtown Toronto</td>\n      <td>Regent Park, Harbourfront</td>\n    </tr>\n    <tr>\n      <th>3</th>\n      <td>M6A</td>\n      <td>North York</td>\n      <td>Lawrence Manor, Lawrence Heights</td>\n    </tr>\n    <tr>\n      <th>4</th>\n      <td>M7A</td>\n      <td>Downtown Toronto</td>\n      <td>Queen's Park, Ontario Provincial Government</td>\n    </tr>\n  </tbody>\n</table>\n</div>"
                    },
                    "metadata": {}
                }
            ]
        },
        {
            "metadata": {},
            "cell_type": "code",
            "source": "df_data_1.shape",
            "execution_count": 68,
            "outputs": [
                {
                    "output_type": "execute_result",
                    "execution_count": 68,
                    "data": {
                        "text/plain": "(103, 3)"
                    },
                    "metadata": {}
                }
            ]
        },
        {
            "metadata": {},
            "cell_type": "markdown",
            "source": "Question 2"
        },
        {
            "metadata": {},
            "cell_type": "code",
            "source": "# Importing csv file and \"Insert to Code\", since geocoder did not work.\nimport types\nimport pandas as pd\nfrom botocore.client import Config\nimport ibm_boto3\n\ndef __iter__(self): return 0\n\n# Message from IBM (pasted when calling the \"insert to code\" function. I replaced my credentials with \"CLIENT_ID\")\n# @hidden_cell\n# The following code accesses a file in your IBM Cloud Object Storage. It includes your credentials.\n# You might want to remove those credentials before you share the notebook.\nclient_980b1a452fbc47649c6801eeaa4c8f73 = ibm_boto3.client(service_name='s3',\n    ibm_api_key_id='-sr-LvN8cjMcjxJij-z8sHBcc0zK-6CY3Q2Kvo0xlfAy',\n    ibm_auth_endpoint=\"https://iam.cloud.ibm.com/oidc/token\",\n    config=Config(signature_version='oauth'),\n    endpoint_url='https://s3.eu-geo.objectstorage.service.networklayer.com')\n\nbody = client_980b1a452fbc47649c6801eeaa4c8f73.get_object(Bucket='datasciencefinalassignmentmodule8-donotdelete-pr-p7xhaymzrujbuv',Key='Geospatial_Coordinates.csv')['Body']\n# add missing __iter__ method, so pandas accepts body as file-like object\nif not hasattr(body, \"__iter__\"): body.__iter__ = types.MethodType( __iter__, body )\n\ndf_data_2 = pd.read_csv(body)\n\n# End of the automatically posted code from \"Insert to code\"\n\n# Merge the two tables on Postal Code\nNBH_latlon = pd.merge(left=df_data_1, right=df_data_2, left_on='PostalCode', right_on='Postal Code')\nNBH_latlon.drop(columns='Postal Code', inplace=True)\nNBH_latlon",
            "execution_count": 70,
            "outputs": [
                {
                    "output_type": "execute_result",
                    "execution_count": 70,
                    "data": {
                        "text/plain": "    PostalCode           Borough  \\\n0          M3A        North York   \n1          M4A        North York   \n2          M5A  Downtown Toronto   \n3          M6A        North York   \n4          M7A  Downtown Toronto   \n..         ...               ...   \n98         M8X         Etobicoke   \n99         M4Y  Downtown Toronto   \n100        M7Y      East Toronto   \n101        M8Y         Etobicoke   \n102        M8Z         Etobicoke   \n\n                                          Neighborhood   Latitude  Longitude  \n0                                            Parkwoods  43.753259 -79.329656  \n1                                     Victoria Village  43.725882 -79.315572  \n2                            Regent Park, Harbourfront  43.654260 -79.360636  \n3                     Lawrence Manor, Lawrence Heights  43.718518 -79.464763  \n4          Queen's Park, Ontario Provincial Government  43.662301 -79.389494  \n..                                                 ...        ...        ...  \n98       The Kingsway, Montgomery Road, Old Mill North  43.653654 -79.506944  \n99                                Church and Wellesley  43.665860 -79.383160  \n100  Business reply mail Processing Centre, South C...  43.662744 -79.321558  \n101  Old Mill South, King's Mill Park, Sunnylea, Hu...  43.636258 -79.498509  \n102  Mimico NW, The Queensway West, South of Bloor,...  43.628841 -79.520999  \n\n[103 rows x 5 columns]",
                        "text/html": "<div>\n<style scoped>\n    .dataframe tbody tr th:only-of-type {\n        vertical-align: middle;\n    }\n\n    .dataframe tbody tr th {\n        vertical-align: top;\n    }\n\n    .dataframe thead th {\n        text-align: right;\n    }\n</style>\n<table border=\"1\" class=\"dataframe\">\n  <thead>\n    <tr style=\"text-align: right;\">\n      <th></th>\n      <th>PostalCode</th>\n      <th>Borough</th>\n      <th>Neighborhood</th>\n      <th>Latitude</th>\n      <th>Longitude</th>\n    </tr>\n  </thead>\n  <tbody>\n    <tr>\n      <th>0</th>\n      <td>M3A</td>\n      <td>North York</td>\n      <td>Parkwoods</td>\n      <td>43.753259</td>\n      <td>-79.329656</td>\n    </tr>\n    <tr>\n      <th>1</th>\n      <td>M4A</td>\n      <td>North York</td>\n      <td>Victoria Village</td>\n      <td>43.725882</td>\n      <td>-79.315572</td>\n    </tr>\n    <tr>\n      <th>2</th>\n      <td>M5A</td>\n      <td>Downtown Toronto</td>\n      <td>Regent Park, Harbourfront</td>\n      <td>43.654260</td>\n      <td>-79.360636</td>\n    </tr>\n    <tr>\n      <th>3</th>\n      <td>M6A</td>\n      <td>North York</td>\n      <td>Lawrence Manor, Lawrence Heights</td>\n      <td>43.718518</td>\n      <td>-79.464763</td>\n    </tr>\n    <tr>\n      <th>4</th>\n      <td>M7A</td>\n      <td>Downtown Toronto</td>\n      <td>Queen's Park, Ontario Provincial Government</td>\n      <td>43.662301</td>\n      <td>-79.389494</td>\n    </tr>\n    <tr>\n      <th>...</th>\n      <td>...</td>\n      <td>...</td>\n      <td>...</td>\n      <td>...</td>\n      <td>...</td>\n    </tr>\n    <tr>\n      <th>98</th>\n      <td>M8X</td>\n      <td>Etobicoke</td>\n      <td>The Kingsway, Montgomery Road, Old Mill North</td>\n      <td>43.653654</td>\n      <td>-79.506944</td>\n    </tr>\n    <tr>\n      <th>99</th>\n      <td>M4Y</td>\n      <td>Downtown Toronto</td>\n      <td>Church and Wellesley</td>\n      <td>43.665860</td>\n      <td>-79.383160</td>\n    </tr>\n    <tr>\n      <th>100</th>\n      <td>M7Y</td>\n      <td>East Toronto</td>\n      <td>Business reply mail Processing Centre, South C...</td>\n      <td>43.662744</td>\n      <td>-79.321558</td>\n    </tr>\n    <tr>\n      <th>101</th>\n      <td>M8Y</td>\n      <td>Etobicoke</td>\n      <td>Old Mill South, King's Mill Park, Sunnylea, Hu...</td>\n      <td>43.636258</td>\n      <td>-79.498509</td>\n    </tr>\n    <tr>\n      <th>102</th>\n      <td>M8Z</td>\n      <td>Etobicoke</td>\n      <td>Mimico NW, The Queensway West, South of Bloor,...</td>\n      <td>43.628841</td>\n      <td>-79.520999</td>\n    </tr>\n  </tbody>\n</table>\n<p>103 rows \u00d7 5 columns</p>\n</div>"
                    },
                    "metadata": {}
                }
            ]
        },
        {
            "metadata": {},
            "cell_type": "code",
            "source": "",
            "execution_count": null,
            "outputs": []
        }
    ],
    "metadata": {
        "kernelspec": {
            "name": "python3",
            "display_name": "Python 3.7",
            "language": "python"
        },
        "language_info": {
            "name": "python",
            "version": "3.7.9",
            "mimetype": "text/x-python",
            "codemirror_mode": {
                "name": "ipython",
                "version": 3
            },
            "pygments_lexer": "ipython3",
            "nbconvert_exporter": "python",
            "file_extension": ".py"
        }
    },
    "nbformat": 4,
    "nbformat_minor": 1
}